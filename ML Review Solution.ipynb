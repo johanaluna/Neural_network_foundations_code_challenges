{
 "cells": [
  {
   "cell_type": "markdown",
   "metadata": {},
   "source": [
    "# Tuesday Code Challenge\n",
    "## Review: Machine Learning Workflow"
   ]
  },
  {
   "cell_type": "markdown",
   "metadata": {
    "colab_type": "text",
    "id": "_RULr569F9s-"
   },
   "source": [
    "For today's code challenge you will be working to build a models to predict a company's available liquidity. \n",
    "\n",
    "Here is a link to the dataset you will be using https://github.com/pierretd/data-dump/raw/master/finance/liquidity/DS3_liquidity_data.txt"
   ]
  },
  {
   "cell_type": "markdown",
   "metadata": {
    "colab_type": "text",
    "id": "ssD-oAcBW2uB"
   },
   "source": [
    "### 1. Data Exploration"
   ]
  },
  {
   "cell_type": "markdown",
   "metadata": {},
   "source": [
    "Import NumPy, Pandas, Pyplot (from Matplotlib), and Seaborn"
   ]
  },
  {
   "cell_type": "code",
   "execution_count": 58,
   "metadata": {
    "colab": {},
    "colab_type": "code",
    "id": "HEaFA2KaW2uH"
   },
   "outputs": [],
   "source": [
    "import numpy as np\n",
    "import seaborn as sns\n",
    "import matplotlib.pyplot as plt\n",
    "import pandas as pd"
   ]
  },
  {
   "cell_type": "markdown",
   "metadata": {},
   "source": [
    "Import Liquidity Data.txt into a new DataFrame\n",
    "Display the first 5 rows"
   ]
  },
  {
   "cell_type": "code",
   "execution_count": 59,
   "metadata": {
    "colab": {
     "base_uri": "https://localhost:8080/",
     "height": 204
    },
    "colab_type": "code",
    "id": "oB61c36JW2uP",
    "outputId": "8678256f-1704-422a-efda-e9003ac407d1"
   },
   "outputs": [
    {
     "data": {
      "text/html": [
       "<div>\n",
       "<style scoped>\n",
       "    .dataframe tbody tr th:only-of-type {\n",
       "        vertical-align: middle;\n",
       "    }\n",
       "\n",
       "    .dataframe tbody tr th {\n",
       "        vertical-align: top;\n",
       "    }\n",
       "\n",
       "    .dataframe thead th {\n",
       "        text-align: right;\n",
       "    }\n",
       "</style>\n",
       "<table border=\"1\" class=\"dataframe\">\n",
       "  <thead>\n",
       "    <tr style=\"text-align: right;\">\n",
       "      <th></th>\n",
       "      <th>available_liquidity</th>\n",
       "      <th>sp_score</th>\n",
       "      <th>market_cap</th>\n",
       "      <th>total_debt</th>\n",
       "      <th>ltm_capex</th>\n",
       "      <th>ltm_ebitda</th>\n",
       "      <th>ltm_fcf</th>\n",
       "      <th>ltm_revenue</th>\n",
       "    </tr>\n",
       "  </thead>\n",
       "  <tbody>\n",
       "    <tr>\n",
       "      <th>0</th>\n",
       "      <td>28694.04271</td>\n",
       "      <td>2</td>\n",
       "      <td>54856.1961</td>\n",
       "      <td>84628.0</td>\n",
       "      <td>-9262.0</td>\n",
       "      <td>21387.00032</td>\n",
       "      <td>9488.0</td>\n",
       "      <td>170315.0</td>\n",
       "    </tr>\n",
       "    <tr>\n",
       "      <th>1</th>\n",
       "      <td>24784.00051</td>\n",
       "      <td>7</td>\n",
       "      <td>209150.6401</td>\n",
       "      <td>57909.0</td>\n",
       "      <td>-2021.0</td>\n",
       "      <td>15161.00019</td>\n",
       "      <td>12105.0</td>\n",
       "      <td>37727.0</td>\n",
       "    </tr>\n",
       "    <tr>\n",
       "      <th>2</th>\n",
       "      <td>24142.00013</td>\n",
       "      <td>6</td>\n",
       "      <td>180108.3453</td>\n",
       "      <td>32970.0</td>\n",
       "      <td>-1817.0</td>\n",
       "      <td>15818.99981</td>\n",
       "      <td>12604.0</td>\n",
       "      <td>192592.0</td>\n",
       "    </tr>\n",
       "    <tr>\n",
       "      <th>3</th>\n",
       "      <td>22132.00077</td>\n",
       "      <td>9</td>\n",
       "      <td>668024.3732</td>\n",
       "      <td>3935.0</td>\n",
       "      <td>-10263.0</td>\n",
       "      <td>31217.99987</td>\n",
       "      <td>27663.0</td>\n",
       "      <td>94765.0</td>\n",
       "    </tr>\n",
       "    <tr>\n",
       "      <th>4</th>\n",
       "      <td>20346.00000</td>\n",
       "      <td>6</td>\n",
       "      <td>144907.9931</td>\n",
       "      <td>42168.0</td>\n",
       "      <td>-3230.0</td>\n",
       "      <td>15801.00019</td>\n",
       "      <td>12061.0</td>\n",
       "      <td>78440.0</td>\n",
       "    </tr>\n",
       "  </tbody>\n",
       "</table>\n",
       "</div>"
      ],
      "text/plain": [
       "   available_liquidity  sp_score   market_cap  total_debt  ltm_capex  \\\n",
       "0          28694.04271         2   54856.1961     84628.0    -9262.0   \n",
       "1          24784.00051         7  209150.6401     57909.0    -2021.0   \n",
       "2          24142.00013         6  180108.3453     32970.0    -1817.0   \n",
       "3          22132.00077         9  668024.3732      3935.0   -10263.0   \n",
       "4          20346.00000         6  144907.9931     42168.0    -3230.0   \n",
       "\n",
       "    ltm_ebitda  ltm_fcf  ltm_revenue  \n",
       "0  21387.00032   9488.0     170315.0  \n",
       "1  15161.00019  12105.0      37727.0  \n",
       "2  15818.99981  12604.0     192592.0  \n",
       "3  31217.99987  27663.0      94765.0  \n",
       "4  15801.00019  12061.0      78440.0  "
      ]
     },
     "execution_count": 59,
     "metadata": {},
     "output_type": "execute_result"
    }
   ],
   "source": [
    "df = pd.read_csv('https://raw.githubusercontent.com/pierretd/data-dump/master/finance/liquidity/DS3_liquidity_data.txt')\n",
    "\n",
    "df.head()\n"
   ]
  },
  {
   "cell_type": "markdown",
   "metadata": {},
   "source": [
    "Display the unique values in 'sp_score'"
   ]
  },
  {
   "cell_type": "code",
   "execution_count": 60,
   "metadata": {
    "colab": {
     "base_uri": "https://localhost:8080/",
     "height": 233
    },
    "colab_type": "code",
    "id": "u_71zLqHW2ua",
    "outputId": "6564f1b4-b36c-4125-d7a9-cc3e583905a5"
   },
   "outputs": [
    {
     "data": {
      "text/plain": [
       "2     204\n",
       "3     160\n",
       "1     148\n",
       "4      94\n",
       "5      92\n",
       "6      38\n",
       "7      26\n",
       "0      24\n",
       "8       8\n",
       "9       6\n",
       "10      2\n",
       "Name: sp_score, dtype: int64"
      ]
     },
     "execution_count": 60,
     "metadata": {},
     "output_type": "execute_result"
    }
   ],
   "source": [
    "df['sp_score'].value_counts()"
   ]
  },
  {
   "cell_type": "markdown",
   "metadata": {
    "colab_type": "text",
    "id": "I6OQUcodW2ug"
   },
   "source": [
    "### 2. Create a X and y as well as a test train split"
   ]
  },
  {
   "cell_type": "markdown",
   "metadata": {},
   "source": [
    "Create your target and values to predict the target, ie X and y"
   ]
  },
  {
   "cell_type": "code",
   "execution_count": 61,
   "metadata": {
    "colab": {},
    "colab_type": "code",
    "id": "oAWFCRS-W2uk"
   },
   "outputs": [],
   "source": [
    "X = df.drop(columns='available_liquidity')\n",
    "y = df['available_liquidity']"
   ]
  },
  {
   "cell_type": "markdown",
   "metadata": {},
   "source": [
    "Confirm that your target and inputs were created correctly\n"
   ]
  },
  {
   "cell_type": "code",
   "execution_count": 62,
   "metadata": {
    "colab": {
     "base_uri": "https://localhost:8080/",
     "height": 161
    },
    "colab_type": "code",
    "id": "jOG2YoT4HAjW",
    "outputId": "881748d4-85dd-4768-9c89-3d7a9cda9b46"
   },
   "outputs": [
    {
     "data": {
      "text/plain": [
       "(Index(['sp_score', 'market_cap', 'total_debt', 'ltm_capex', 'ltm_ebitda',\n",
       "        'ltm_fcf', 'ltm_revenue'],\n",
       "       dtype='object'), 0    28694.04271\n",
       " 1    24784.00051\n",
       " 2    24142.00013\n",
       " 3    22132.00077\n",
       " 4    20346.00000\n",
       " Name: available_liquidity, dtype: float64)"
      ]
     },
     "execution_count": 62,
     "metadata": {},
     "output_type": "execute_result"
    }
   ],
   "source": [
    "X.columns, y[:5]"
   ]
  },
  {
   "cell_type": "markdown",
   "metadata": {},
   "source": [
    "Create a train test split. Use a test size of .2 and random state 42\n"
   ]
  },
  {
   "cell_type": "code",
   "execution_count": 63,
   "metadata": {
    "colab": {},
    "colab_type": "code",
    "id": "9GTD6VLkW2ut"
   },
   "outputs": [],
   "source": [
    "from sklearn.model_selection import train_test_split\n",
    "\n",
    "X_test, X_train, y_test, y_train = train_test_split(X, y, test_size=.2, random_state=42)"
   ]
  },
  {
   "cell_type": "markdown",
   "metadata": {},
   "source": [
    "Confirm that your train test split was created correctly\n"
   ]
  },
  {
   "cell_type": "code",
   "execution_count": 64,
   "metadata": {
    "colab": {
     "base_uri": "https://localhost:8080/",
     "height": 35
    },
    "colab_type": "code",
    "id": "J5D-R_LpW2uw",
    "outputId": "dab9b0bd-516c-4ac8-ab4e-17341843626a"
   },
   "outputs": [
    {
     "data": {
      "text/plain": [
       "((641, 7), (161, 7), (641,), (161,))"
      ]
     },
     "execution_count": 64,
     "metadata": {},
     "output_type": "execute_result"
    }
   ],
   "source": [
    "X_test.shape, X_train.shape, y_test.shape, y_train.shape"
   ]
  },
  {
   "cell_type": "markdown",
   "metadata": {},
   "source": [
    "Uset StandardScaler to scale the data and run a Lasso and Ridge model from sklearn\n",
    "Stretch: Create a pipeline to scale and run the model simulataneously, and use a pipeline for the other models as well\n"
   ]
  },
  {
   "cell_type": "code",
   "execution_count": 65,
   "metadata": {
    "colab": {
     "base_uri": "https://localhost:8080/",
     "height": 305
    },
    "colab_type": "code",
    "id": "-X8FiYqjW2u6",
    "outputId": "2a185f6b-634b-421f-9177-c05a8c81b2e3"
   },
   "outputs": [
    {
     "data": {
      "text/plain": [
       "(Pipeline(memory=None,\n",
       "          steps=[('standardscaler',\n",
       "                  StandardScaler(copy=True, with_mean=True, with_std=True)),\n",
       "                 ('lasso',\n",
       "                  Lasso(alpha=1.0, copy_X=True, fit_intercept=True,\n",
       "                        max_iter=1000, normalize=False, positive=False,\n",
       "                        precompute=False, random_state=None, selection='cyclic',\n",
       "                        tol=0.0001, warm_start=False))],\n",
       "          verbose=False), Pipeline(memory=None,\n",
       "          steps=[('standardscaler',\n",
       "                  StandardScaler(copy=True, with_mean=True, with_std=True)),\n",
       "                 ('ridge',\n",
       "                  Ridge(alpha=1.0, copy_X=True, fit_intercept=True,\n",
       "                        max_iter=None, normalize=False, random_state=None,\n",
       "                        solver='auto', tol=0.001))],\n",
       "          verbose=False))"
      ]
     },
     "execution_count": 65,
     "metadata": {},
     "output_type": "execute_result"
    }
   ],
   "source": [
    "from sklearn.linear_model import Lasso, Ridge\n",
    "from sklearn.pipeline import make_pipeline\n",
    "from sklearn.preprocessing import StandardScaler\n",
    "\n",
    "lasso = make_pipeline(StandardScaler(),\n",
    "                      Lasso())\n",
    "\n",
    "ridge = make_pipeline(StandardScaler(),\n",
    "                      Ridge())\n",
    "\n",
    "\n",
    "lasso.fit(X, y), ridge.fit(X, y)"
   ]
  },
  {
   "cell_type": "markdown",
   "metadata": {},
   "source": [
    "Run an ElasticNet model \n"
   ]
  },
  {
   "cell_type": "code",
   "execution_count": 66,
   "metadata": {
    "colab": {
     "base_uri": "https://localhost:8080/",
     "height": 197
    },
    "colab_type": "code",
    "id": "w_c4C8QbW2u8",
    "outputId": "b5e1d5c2-5ff7-47f9-8bfe-3ab6dc2ecdbf"
   },
   "outputs": [
    {
     "data": {
      "text/plain": [
       "Pipeline(memory=None,\n",
       "         steps=[('standardscaler',\n",
       "                 StandardScaler(copy=True, with_mean=True, with_std=True)),\n",
       "                ('elasticnet',\n",
       "                 ElasticNet(alpha=1.0, copy_X=True, fit_intercept=True,\n",
       "                            l1_ratio=0.5, max_iter=1000, normalize=False,\n",
       "                            positive=False, precompute=False, random_state=None,\n",
       "                            selection='cyclic', tol=0.0001,\n",
       "                            warm_start=False))],\n",
       "         verbose=False)"
      ]
     },
     "execution_count": 66,
     "metadata": {},
     "output_type": "execute_result"
    }
   ],
   "source": [
    "from sklearn.linear_model import ElasticNet\n",
    "\n",
    "elastic = make_pipeline(StandardScaler(),\n",
    "                      ElasticNet())\n",
    "\n",
    "\n",
    "elastic.fit(X, y)"
   ]
  },
  {
   "cell_type": "markdown",
   "metadata": {},
   "source": [
    "Run a RandomForestRegressor and GradientBoostingRegressor model "
   ]
  },
  {
   "cell_type": "code",
   "execution_count": 67,
   "metadata": {
    "colab": {
     "base_uri": "https://localhost:8080/",
     "height": 703
    },
    "colab_type": "code",
    "id": "q-k4dutsW2u_",
    "outputId": "5dc1dcdb-0d06-433f-fa90-949dae9f3fba"
   },
   "outputs": [
    {
     "name": "stderr",
     "output_type": "stream",
     "text": [
      "/Applications/anaconda3/lib/python3.7/site-packages/sklearn/ensemble/forest.py:245: FutureWarning: The default value of n_estimators will change from 10 in version 0.20 to 100 in 0.22.\n",
      "  \"10 in version 0.20 to 100 in 0.22.\", FutureWarning)\n"
     ]
    },
    {
     "data": {
      "text/plain": [
       "(Pipeline(memory=None,\n",
       "          steps=[('standardscaler',\n",
       "                  StandardScaler(copy=True, with_mean=True, with_std=True)),\n",
       "                 ('randomforestregressor',\n",
       "                  RandomForestRegressor(bootstrap=True, criterion='mse',\n",
       "                                        max_depth=None, max_features='auto',\n",
       "                                        max_leaf_nodes=None,\n",
       "                                        min_impurity_decrease=0.0,\n",
       "                                        min_impurity_split=None,\n",
       "                                        min_samples_leaf=1, min_samples_split=2,\n",
       "                                        min_weight_fraction_leaf=0.0,\n",
       "                                        n_estimators=10, n_jobs=None,\n",
       "                                        oob_score=False, random_state=None,\n",
       "                                        verbose=0, warm_start=False))],\n",
       "          verbose=False), Pipeline(memory=None,\n",
       "          steps=[('standardscaler',\n",
       "                  StandardScaler(copy=True, with_mean=True, with_std=True)),\n",
       "                 ('gradientboostingregressor',\n",
       "                  GradientBoostingRegressor(alpha=0.9, criterion='friedman_mse',\n",
       "                                            init=None, learning_rate=0.1,\n",
       "                                            loss='ls', max_depth=3,\n",
       "                                            max_features=None,\n",
       "                                            max_leaf_nodes=None,\n",
       "                                            min_impurity_decrease=0.0,\n",
       "                                            min_impurity_split=None,\n",
       "                                            min_samples_leaf=1,\n",
       "                                            min_samples_split=2,\n",
       "                                            min_weight_fraction_leaf=0.0,\n",
       "                                            n_estimators=100,\n",
       "                                            n_iter_no_change=None,\n",
       "                                            presort='auto', random_state=None,\n",
       "                                            subsample=1.0, tol=0.0001,\n",
       "                                            validation_fraction=0.1, verbose=0,\n",
       "                                            warm_start=False))],\n",
       "          verbose=False))"
      ]
     },
     "execution_count": 67,
     "metadata": {},
     "output_type": "execute_result"
    }
   ],
   "source": [
    "\n",
    "from sklearn.ensemble import RandomForestRegressor, GradientBoostingRegressor\n",
    "\n",
    "\n",
    "random = make_pipeline(StandardScaler(),\n",
    "                      RandomForestRegressor())\n",
    "\n",
    "boost = make_pipeline(StandardScaler(),\n",
    "                      GradientBoostingRegressor())\n",
    "\n",
    "\n",
    "random.fit(X, y), boost.fit(X, y)"
   ]
  },
  {
   "cell_type": "markdown",
   "metadata": {
    "colab_type": "text",
    "id": "Cr3sNykgW2vS"
   },
   "source": [
    "### 3. Hyperparameter Tuning"
   ]
  },
  {
   "cell_type": "markdown",
   "metadata": {},
   "source": [
    "Create a hyperparameter grid for Lasso, run the model again\n"
   ]
  },
  {
   "cell_type": "code",
   "execution_count": 68,
   "metadata": {
    "colab": {
     "base_uri": "https://localhost:8080/",
     "height": 541
    },
    "colab_type": "code",
    "id": "MHNWGRBoW2vU",
    "outputId": "361e88cb-6880-440f-aacf-ced6a5d3f9a9"
   },
   "outputs": [
    {
     "name": "stdout",
     "output_type": "stream",
     "text": [
      "Fitting 3 folds for each of 3 candidates, totalling 9 fits\n"
     ]
    },
    {
     "name": "stderr",
     "output_type": "stream",
     "text": [
      "[Parallel(n_jobs=-1)]: Using backend LokyBackend with 4 concurrent workers.\n",
      "[Parallel(n_jobs=-1)]: Done   3 out of   9 | elapsed:    3.4s remaining:    6.9s\n",
      "[Parallel(n_jobs=-1)]: Done   4 out of   9 | elapsed:    3.4s remaining:    4.3s\n",
      "[Parallel(n_jobs=-1)]: Done   5 out of   9 | elapsed:    3.5s remaining:    2.8s\n",
      "[Parallel(n_jobs=-1)]: Done   6 out of   9 | elapsed:    3.5s remaining:    1.8s\n",
      "[Parallel(n_jobs=-1)]: Done   7 out of   9 | elapsed:    3.5s remaining:    1.0s\n",
      "[Parallel(n_jobs=-1)]: Done   9 out of   9 | elapsed:    3.5s remaining:    0.0s\n",
      "[Parallel(n_jobs=-1)]: Done   9 out of   9 | elapsed:    3.5s finished\n",
      "/Applications/anaconda3/lib/python3.7/site-packages/sklearn/model_selection/_search.py:814: DeprecationWarning: The default of the `iid` parameter will change from True to False in version 0.22 and will be removed in 0.24. This will change numeric results when test-set sizes are unequal.\n",
      "  DeprecationWarning)\n"
     ]
    },
    {
     "data": {
      "text/plain": [
       "GridSearchCV(cv=3, error_score='raise-deprecating',\n",
       "             estimator=Pipeline(memory=None,\n",
       "                                steps=[('standardscaler',\n",
       "                                        StandardScaler(copy=True,\n",
       "                                                       with_mean=True,\n",
       "                                                       with_std=True)),\n",
       "                                       ('lasso',\n",
       "                                        Lasso(alpha=1.0, copy_X=True,\n",
       "                                              fit_intercept=True, max_iter=1000,\n",
       "                                              normalize=False, positive=False,\n",
       "                                              precompute=False,\n",
       "                                              random_state=None,\n",
       "                                              selection='cyclic', tol=0.0001,\n",
       "                                              warm_start=False))],\n",
       "                                verbose=False),\n",
       "             iid='warn', n_jobs=-1,\n",
       "             param_grid={'lasso__max_iter': [1000, 10000, 100000]},\n",
       "             pre_dispatch='2*n_jobs', refit=True, return_train_score=False,\n",
       "             scoring='r2', verbose=10)"
      ]
     },
     "execution_count": 68,
     "metadata": {},
     "output_type": "execute_result"
    }
   ],
   "source": [
    "from sklearn.model_selection import GridSearchCV\n",
    "\n",
    "params = {'lasso__max_iter':[1000,10000,100000]}\n",
    "\n",
    "gs_lasso = GridSearchCV(lasso, param_grid=params, scoring='r2', n_jobs=-1, cv=3, verbose=10, return_train_score=False)\n",
    "\n",
    "#lasso.get_params().keys()\n",
    "gs_lasso.fit(X, y)"
   ]
  },
  {
   "cell_type": "markdown",
   "metadata": {},
   "source": [
    "Create a hyperparameter grid for Ridge, run the model again\n"
   ]
  },
  {
   "cell_type": "code",
   "execution_count": 69,
   "metadata": {},
   "outputs": [
    {
     "name": "stdout",
     "output_type": "stream",
     "text": [
      "Fitting 3 folds for each of 3 candidates, totalling 9 fits\n"
     ]
    },
    {
     "name": "stderr",
     "output_type": "stream",
     "text": [
      "[Parallel(n_jobs=-1)]: Using backend LokyBackend with 4 concurrent workers.\n",
      "[Parallel(n_jobs=-1)]: Done   3 out of   9 | elapsed:    3.1s remaining:    6.1s\n",
      "[Parallel(n_jobs=-1)]: Done   4 out of   9 | elapsed:    3.1s remaining:    3.8s\n",
      "[Parallel(n_jobs=-1)]: Done   5 out of   9 | elapsed:    3.1s remaining:    2.5s\n",
      "[Parallel(n_jobs=-1)]: Done   6 out of   9 | elapsed:    3.1s remaining:    1.6s\n",
      "[Parallel(n_jobs=-1)]: Done   7 out of   9 | elapsed:    3.1s remaining:    0.9s\n",
      "[Parallel(n_jobs=-1)]: Done   9 out of   9 | elapsed:    3.1s remaining:    0.0s\n",
      "[Parallel(n_jobs=-1)]: Done   9 out of   9 | elapsed:    3.1s finished\n",
      "/Applications/anaconda3/lib/python3.7/site-packages/sklearn/model_selection/_search.py:814: DeprecationWarning: The default of the `iid` parameter will change from True to False in version 0.22 and will be removed in 0.24. This will change numeric results when test-set sizes are unequal.\n",
      "  DeprecationWarning)\n"
     ]
    },
    {
     "data": {
      "text/plain": [
       "GridSearchCV(cv=3, error_score='raise-deprecating',\n",
       "             estimator=Pipeline(memory=None,\n",
       "                                steps=[('standardscaler',\n",
       "                                        StandardScaler(copy=True,\n",
       "                                                       with_mean=True,\n",
       "                                                       with_std=True)),\n",
       "                                       ('ridge',\n",
       "                                        Ridge(alpha=1.0, copy_X=True,\n",
       "                                              fit_intercept=True, max_iter=None,\n",
       "                                              normalize=False,\n",
       "                                              random_state=None, solver='auto',\n",
       "                                              tol=0.001))],\n",
       "                                verbose=False),\n",
       "             iid='warn', n_jobs=-1,\n",
       "             param_grid={'ridge__alpha': [10, 100, 1000]},\n",
       "             pre_dispatch='2*n_jobs', refit=True, return_train_score=False,\n",
       "             scoring='r2', verbose=10)"
      ]
     },
     "execution_count": 69,
     "metadata": {},
     "output_type": "execute_result"
    }
   ],
   "source": [
    "params = {'ridge__alpha': [10, 100, 1000]}\n",
    "\n",
    "gs_ridge = GridSearchCV(ridge, param_grid=params, scoring='r2', n_jobs=-1, cv=3, verbose=10, return_train_score=False)\n",
    "\n",
    "gs_ridge.fit(X, y)"
   ]
  },
  {
   "cell_type": "markdown",
   "metadata": {},
   "source": [
    "Create a hyperparameter grid for Elastic Net, run the model again\n"
   ]
  },
  {
   "cell_type": "code",
   "execution_count": 70,
   "metadata": {
    "colab": {},
    "colab_type": "code",
    "id": "4ZqhHfY-W2vY"
   },
   "outputs": [
    {
     "name": "stdout",
     "output_type": "stream",
     "text": [
      "Fitting 3 folds for each of 3 candidates, totalling 9 fits\n"
     ]
    },
    {
     "name": "stderr",
     "output_type": "stream",
     "text": [
      "[Parallel(n_jobs=-1)]: Using backend LokyBackend with 4 concurrent workers.\n",
      "[Parallel(n_jobs=-1)]: Done   3 out of   9 | elapsed:    3.0s remaining:    6.0s\n",
      "[Parallel(n_jobs=-1)]: Done   4 out of   9 | elapsed:    3.0s remaining:    3.8s\n",
      "[Parallel(n_jobs=-1)]: Done   5 out of   9 | elapsed:    3.0s remaining:    2.4s\n",
      "[Parallel(n_jobs=-1)]: Done   6 out of   9 | elapsed:    3.1s remaining:    1.5s\n",
      "[Parallel(n_jobs=-1)]: Done   7 out of   9 | elapsed:    3.1s remaining:    0.9s\n",
      "[Parallel(n_jobs=-1)]: Done   9 out of   9 | elapsed:    3.1s remaining:    0.0s\n",
      "[Parallel(n_jobs=-1)]: Done   9 out of   9 | elapsed:    3.1s finished\n",
      "/Applications/anaconda3/lib/python3.7/site-packages/sklearn/model_selection/_search.py:814: DeprecationWarning: The default of the `iid` parameter will change from True to False in version 0.22 and will be removed in 0.24. This will change numeric results when test-set sizes are unequal.\n",
      "  DeprecationWarning)\n"
     ]
    },
    {
     "data": {
      "text/plain": [
       "GridSearchCV(cv=3, error_score='raise-deprecating',\n",
       "             estimator=Pipeline(memory=None,\n",
       "                                steps=[('standardscaler',\n",
       "                                        StandardScaler(copy=True,\n",
       "                                                       with_mean=True,\n",
       "                                                       with_std=True)),\n",
       "                                       ('elasticnet',\n",
       "                                        ElasticNet(alpha=1.0, copy_X=True,\n",
       "                                                   fit_intercept=True,\n",
       "                                                   l1_ratio=0.5, max_iter=1000,\n",
       "                                                   normalize=False,\n",
       "                                                   positive=False,\n",
       "                                                   precompute=False,\n",
       "                                                   random_state=None,\n",
       "                                                   selection='cyclic',\n",
       "                                                   tol=0.0001,\n",
       "                                                   warm_start=False))],\n",
       "                                verbose=False),\n",
       "             iid='warn', n_jobs=-1,\n",
       "             param_grid={'elasticnet__alpha': [10, 100, 1000]},\n",
       "             pre_dispatch='2*n_jobs', refit=True, return_train_score=False,\n",
       "             scoring='r2', verbose=10)"
      ]
     },
     "execution_count": 70,
     "metadata": {},
     "output_type": "execute_result"
    }
   ],
   "source": [
    "params = {'elasticnet__alpha': [10, 100, 1000]}\n",
    "\n",
    "gs_elastic = GridSearchCV(elastic, param_grid=params, scoring='r2', n_jobs=-1, cv=3, verbose=10, return_train_score=False)\n",
    "\n",
    "gs_elastic.fit(X, y)"
   ]
  },
  {
   "cell_type": "markdown",
   "metadata": {},
   "source": [
    "Create a hyperparameter grid for Random Forest, run the model again\n"
   ]
  },
  {
   "cell_type": "code",
   "execution_count": 71,
   "metadata": {},
   "outputs": [
    {
     "name": "stdout",
     "output_type": "stream",
     "text": [
      "Fitting 3 folds for each of 4 candidates, totalling 12 fits\n"
     ]
    },
    {
     "name": "stderr",
     "output_type": "stream",
     "text": [
      "[Parallel(n_jobs=-1)]: Using backend LokyBackend with 4 concurrent workers.\n",
      "[Parallel(n_jobs=-1)]: Done   5 tasks      | elapsed:    3.2s\n",
      "[Parallel(n_jobs=-1)]: Done   7 out of  12 | elapsed:    3.2s remaining:    2.3s\n",
      "[Parallel(n_jobs=-1)]: Done   9 out of  12 | elapsed:    3.3s remaining:    1.1s\n",
      "[Parallel(n_jobs=-1)]: Done  12 out of  12 | elapsed:    3.3s finished\n",
      "/Applications/anaconda3/lib/python3.7/site-packages/sklearn/model_selection/_search.py:814: DeprecationWarning: The default of the `iid` parameter will change from True to False in version 0.22 and will be removed in 0.24. This will change numeric results when test-set sizes are unequal.\n",
      "  DeprecationWarning)\n"
     ]
    },
    {
     "data": {
      "text/plain": [
       "GridSearchCV(cv=3, error_score='raise-deprecating',\n",
       "             estimator=Pipeline(memory=None,\n",
       "                                steps=[('standardscaler',\n",
       "                                        StandardScaler(copy=True,\n",
       "                                                       with_mean=True,\n",
       "                                                       with_std=True)),\n",
       "                                       ('randomforestregressor',\n",
       "                                        RandomForestRegressor(bootstrap=True,\n",
       "                                                              criterion='mse',\n",
       "                                                              max_depth=None,\n",
       "                                                              max_features='auto',\n",
       "                                                              max_leaf_nodes=None,\n",
       "                                                              min_impurity_decrease=0.0,\n",
       "                                                              min_impurity_split=None,\n",
       "                                                              min_samples_leaf=1,\n",
       "                                                              min_samples_split=2,\n",
       "                                                              min_weight_fraction_leaf=0.0,\n",
       "                                                              n_estimators=10,\n",
       "                                                              n_jobs=None,\n",
       "                                                              oob_score=False,\n",
       "                                                              random_state=None,\n",
       "                                                              verbose=0,\n",
       "                                                              warm_start=False))],\n",
       "                                verbose=False),\n",
       "             iid='warn', n_jobs=-1,\n",
       "             param_grid={'randomforestregressor__max_depth': [2, 5, 10, 20]},\n",
       "             pre_dispatch='2*n_jobs', refit=True, return_train_score=False,\n",
       "             scoring='r2', verbose=10)"
      ]
     },
     "execution_count": 71,
     "metadata": {},
     "output_type": "execute_result"
    }
   ],
   "source": [
    "params = {'randomforestregressor__max_depth':[2, 5, 10, 20]}\n",
    "\n",
    "gs_random = GridSearchCV(random, param_grid=params, scoring='r2', n_jobs=-1, cv=3, verbose=10, return_train_score=False)\n",
    "\n",
    "gs_random.fit(X, y)"
   ]
  },
  {
   "cell_type": "markdown",
   "metadata": {},
   "source": [
    "Create a hyperparameter grid for Gradient Booster, run the model again"
   ]
  },
  {
   "cell_type": "code",
   "execution_count": 72,
   "metadata": {
    "colab": {},
    "colab_type": "code",
    "id": "aMS-9yLHW2vc"
   },
   "outputs": [
    {
     "name": "stdout",
     "output_type": "stream",
     "text": [
      "Fitting 3 folds for each of 4 candidates, totalling 12 fits\n"
     ]
    },
    {
     "name": "stderr",
     "output_type": "stream",
     "text": [
      "[Parallel(n_jobs=-1)]: Using backend LokyBackend with 4 concurrent workers.\n",
      "[Parallel(n_jobs=-1)]: Done   5 tasks      | elapsed:    3.0s\n",
      "[Parallel(n_jobs=-1)]: Done   7 out of  12 | elapsed:    3.3s remaining:    2.3s\n",
      "[Parallel(n_jobs=-1)]: Done   9 out of  12 | elapsed:    3.5s remaining:    1.2s\n",
      "[Parallel(n_jobs=-1)]: Done  12 out of  12 | elapsed:    4.0s finished\n",
      "/Applications/anaconda3/lib/python3.7/site-packages/sklearn/model_selection/_search.py:814: DeprecationWarning: The default of the `iid` parameter will change from True to False in version 0.22 and will be removed in 0.24. This will change numeric results when test-set sizes are unequal.\n",
      "  DeprecationWarning)\n"
     ]
    },
    {
     "data": {
      "text/plain": [
       "GridSearchCV(cv=3, error_score='raise-deprecating',\n",
       "             estimator=Pipeline(memory=None,\n",
       "                                steps=[('standardscaler',\n",
       "                                        StandardScaler(copy=True,\n",
       "                                                       with_mean=True,\n",
       "                                                       with_std=True)),\n",
       "                                       ('gradientboostingregressor',\n",
       "                                        GradientBoostingRegressor(alpha=0.9,\n",
       "                                                                  criterion='friedman_mse',\n",
       "                                                                  init=None,\n",
       "                                                                  learning_rate=0.1,\n",
       "                                                                  loss='ls',\n",
       "                                                                  max_depth=3,\n",
       "                                                                  max_features=None,\n",
       "                                                                  max_leaf_nodes=None,\n",
       "                                                                  min_impuri...\n",
       "                                                                  min_weight_fraction_leaf=0.0,\n",
       "                                                                  n_estimators=100,\n",
       "                                                                  n_iter_no_change=None,\n",
       "                                                                  presort='auto',\n",
       "                                                                  random_state=None,\n",
       "                                                                  subsample=1.0,\n",
       "                                                                  tol=0.0001,\n",
       "                                                                  validation_fraction=0.1,\n",
       "                                                                  verbose=0,\n",
       "                                                                  warm_start=False))],\n",
       "                                verbose=False),\n",
       "             iid='warn', n_jobs=-1,\n",
       "             param_grid={'gradientboostingregressor__max_depth': [2, 5, 10,\n",
       "                                                                  20]},\n",
       "             pre_dispatch='2*n_jobs', refit=True, return_train_score=False,\n",
       "             scoring='r2', verbose=10)"
      ]
     },
     "execution_count": 72,
     "metadata": {},
     "output_type": "execute_result"
    }
   ],
   "source": [
    "params = {'gradientboostingregressor__max_depth':[2, 5, 10, 20]}\n",
    "\n",
    "gs_boost = GridSearchCV(boost, param_grid=params, scoring='r2', n_jobs=-1, cv=3, verbose=10, return_train_score=False)\n",
    "\n",
    "gs_boost.fit(X, y)"
   ]
  },
  {
   "cell_type": "markdown",
   "metadata": {
    "colab_type": "text",
    "id": "-ed8T2D2W2v4"
   },
   "source": [
    "### 4. Selecting a Winning Model"
   ]
  },
  {
   "cell_type": "markdown",
   "metadata": {},
   "source": [
    "Import the r-squared and mean absolute error metrics and calculate them for each of the models. Which model performed best? Why do you think that model performed best?\n"
   ]
  },
  {
   "cell_type": "code",
   "execution_count": 73,
   "metadata": {
    "colab": {},
    "colab_type": "code",
    "id": "pFRqY0TBW2v5"
   },
   "outputs": [
    {
     "name": "stdout",
     "output_type": "stream",
     "text": [
      "Pipeline(memory=None,\n",
      "         steps=[('standardscaler',\n",
      "                 StandardScaler(copy=True, with_mean=True, with_std=True)),\n",
      "                ('lasso',\n",
      "                 Lasso(alpha=1.0, copy_X=True, fit_intercept=True,\n",
      "                       max_iter=1000, normalize=False, positive=False,\n",
      "                       precompute=False, random_state=None, selection='cyclic',\n",
      "                       tol=0.0001, warm_start=False))],\n",
      "         verbose=False) \n",
      " R2 Score:  0.33175751060578806 \n",
      " MEA:  1733.4396878623843 \n",
      "\n",
      "\n",
      "Pipeline(memory=None,\n",
      "         steps=[('standardscaler',\n",
      "                 StandardScaler(copy=True, with_mean=True, with_std=True)),\n",
      "                ('ridge',\n",
      "                 Ridge(alpha=1.0, copy_X=True, fit_intercept=True,\n",
      "                       max_iter=None, normalize=False, random_state=None,\n",
      "                       solver='auto', tol=0.001))],\n",
      "         verbose=False) \n",
      " R2 Score:  0.3156170005160758 \n",
      " MEA:  1740.9871049688181 \n",
      "\n",
      "\n",
      "Pipeline(memory=None,\n",
      "         steps=[('standardscaler',\n",
      "                 StandardScaler(copy=True, with_mean=True, with_std=True)),\n",
      "                ('elasticnet',\n",
      "                 ElasticNet(alpha=1.0, copy_X=True, fit_intercept=True,\n",
      "                            l1_ratio=0.5, max_iter=1000, normalize=False,\n",
      "                            positive=False, precompute=False, random_state=None,\n",
      "                            selection='cyclic', tol=0.0001,\n",
      "                            warm_start=False))],\n",
      "         verbose=False) \n",
      " R2 Score:  -3.888804362385165 \n",
      " MEA:  2262.5936799709953 \n",
      "\n",
      "\n",
      "Pipeline(memory=None,\n",
      "         steps=[('standardscaler',\n",
      "                 StandardScaler(copy=True, with_mean=True, with_std=True)),\n",
      "                ('randomforestregressor',\n",
      "                 RandomForestRegressor(bootstrap=True, criterion='mse',\n",
      "                                       max_depth=None, max_features='auto',\n",
      "                                       max_leaf_nodes=None,\n",
      "                                       min_impurity_decrease=0.0,\n",
      "                                       min_impurity_split=None,\n",
      "                                       min_samples_leaf=1, min_samples_split=2,\n",
      "                                       min_weight_fraction_leaf=0.0,\n",
      "                                       n_estimators=10, n_jobs=None,\n",
      "                                       oob_score=False, random_state=None,\n",
      "                                       verbose=0, warm_start=False))],\n",
      "         verbose=False) \n",
      " R2 Score:  0.9871093477917545 \n",
      " MEA:  257.67434883925984 \n",
      "\n",
      "\n",
      "Pipeline(memory=None,\n",
      "         steps=[('standardscaler',\n",
      "                 StandardScaler(copy=True, with_mean=True, with_std=True)),\n",
      "                ('gradientboostingregressor',\n",
      "                 GradientBoostingRegressor(alpha=0.9, criterion='friedman_mse',\n",
      "                                           init=None, learning_rate=0.1,\n",
      "                                           loss='ls', max_depth=3,\n",
      "                                           max_features=None,\n",
      "                                           max_leaf_nodes=None,\n",
      "                                           min_impurity_decrease=0.0,\n",
      "                                           min_impurity_split=None,\n",
      "                                           min_samples_leaf=1,\n",
      "                                           min_samples_split=2,\n",
      "                                           min_weight_fraction_leaf=0.0,\n",
      "                                           n_estimators=100,\n",
      "                                           n_iter_no_change=None,\n",
      "                                           presort='auto', random_state=None,\n",
      "                                           subsample=1.0, tol=0.0001,\n",
      "                                           validation_fraction=0.1, verbose=0,\n",
      "                                           warm_start=False))],\n",
      "         verbose=False) \n",
      " R2 Score:  0.9999999992943858 \n",
      " MEA:  0.07778188664213824 \n",
      "\n",
      "\n"
     ]
    }
   ],
   "source": [
    "from sklearn.metrics import r2_score, mean_absolute_error\n",
    "\n",
    "models = [gs_lasso, gs_ridge, gs_elastic, gs_random, gs_boost]\n",
    "\n",
    "for model in models:\n",
    "    r2 = r2_score(model.predict(X_test), y_test)\n",
    "    mea = mean_absolute_error(model.predict(X_test), y_test)\n",
    "    print(model.estimator, '\\n', 'R2 Score: ', r2, '\\n', 'MEA: ', mea, '\\n\\n')"
   ]
  },
  {
   "cell_type": "markdown",
   "metadata": {},
   "source": [
    "Make prediction with test data"
   ]
  },
  {
   "cell_type": "code",
   "execution_count": 74,
   "metadata": {
    "colab": {},
    "colab_type": "code",
    "id": "kmJ-IXqgW2wC"
   },
   "outputs": [
    {
     "data": {
      "text/plain": [
       "array([1705.05771577])"
      ]
     },
     "execution_count": 74,
     "metadata": {},
     "output_type": "execute_result"
    }
   ],
   "source": [
    "gs_boost.predict(X_test.sample(1))"
   ]
  },
  {
   "cell_type": "markdown",
   "metadata": {},
   "source": [
    "Plot predictions on x axis and actuals on y axis"
   ]
  },
  {
   "cell_type": "code",
   "execution_count": 75,
   "metadata": {
    "colab": {},
    "colab_type": "code",
    "id": "3pWxVbnWJHgp"
   },
   "outputs": [
    {
     "data": {
      "text/plain": [
       "[<matplotlib.lines.Line2D at 0x1a24e07240>]"
      ]
     },
     "execution_count": 75,
     "metadata": {},
     "output_type": "execute_result"
    },
    {
     "data": {
      "image/png": "[encoded data removed]",
      "text/plain": [
       "<Figure size 432x288 with 1 Axes>"
      ]
     },
     "metadata": {
      "needs_background": "light"
     },
     "output_type": "display_data"
    }
   ],
   "source": [
    "import matplotlib.pyplot as plt\n",
    "\n",
    "plt.plot(df.index, y)\n",
    "plt.plot(df.index, gs_boost.predict(X))"
   ]
  },
  {
   "cell_type": "markdown",
   "metadata": {
    "colab": {},
    "colab_type": "code",
    "id": "GrZDluDIJK5O"
   },
   "source": [
    "Choose one observation to make a prediction. How big was the difference between your prediction and your mean absolute error?"
   ]
  },
  {
   "cell_type": "code",
   "execution_count": 76,
   "metadata": {},
   "outputs": [
    {
     "name": "stdout",
     "output_type": "stream",
     "text": [
      "Prediction:  [12119.7817756] Actual:  [12120.00051] \n",
      "Difference:  [0.2187344]\n"
     ]
    }
   ],
   "source": [
    "test_observation = df.sample(1)\n",
    "test_observation\n",
    "\n",
    "x = test_observation.drop(columns = 'available_liquidity')\n",
    "y = test_observation['available_liquidity'].values\n",
    "print('Prediction: ', gs_boost.predict(x), 'Actual: ', y, '\\nDifference: ', abs(gs_boost.predict(x) - y))"
   ]
  }
 ],
 "metadata": {
  "kernelspec": {
   "display_name": "Python 3",
   "language": "python",
   "name": "python3"
  },
  "language_info": {
   "codemirror_mode": {
    "name": "ipython",
    "version": 3
   },
   "file_extension": ".py",
   "mimetype": "text/x-python",
   "name": "python",
   "nbconvert_exporter": "python",
   "pygments_lexer": "ipython3",
   "version": "3.6.8"
  }
 },
 "nbformat": 4,
 "nbformat_minor": 4
}
